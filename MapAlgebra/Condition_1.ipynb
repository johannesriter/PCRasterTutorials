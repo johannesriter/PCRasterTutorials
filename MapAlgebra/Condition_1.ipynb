{
 "cells": [
  {
   "cell_type": "markdown",
   "metadata": {},
   "source": [
    "<!--NAVIGATION-->\n",
    "< [Preparation](Preparation.ipynb) | [Contents](Contents.ipynb) | [Condition 2](Condition_2.ipynb) >"
   ]
  },
  {
   "cell_type": "markdown",
   "metadata": {},
   "source": [
    "# Condition 1: Wells within 150 Meters of Houses or Roads\n",
    "## Introduction\n",
    "\n",
    "Now that we've converted the GeoTIFF files to PCRaster format and have checked their properties, it's time to proceed with analysing the three conditions:\n",
    "\n",
    "* Condition 1: Wells within 150 meters of houses or roads\n",
    "* Condition 2: No industry, mine, or landfill within 300 meters from wells\n",
    "* Condition 3: Wells less than 40 meters deep\n",
    "\n",
    "For Condition 1 we'll first look at the houses and we'll do the following:\n",
    "\n",
    "1. Create a boolean layer with True for houses and False for other buildings\n",
    "2. Create zones of 150 meters around the houses\n",
    "\n",
    "Then we'll repeat the steps for roads.\n",
    "\n",
    "## Create a Boolean Layer with True for Houses and False for Other Buildings\n",
    "We usually type the commands at the Python prompt. In this Jupyter Notebook we simulate this. I.e. everything you type in the fields is equal to a command at the Python prompt.\n",
    "\n",
    "Let's first load the `pcraster` module."
   ]
  },
  {
   "cell_type": "code",
   "execution_count": null,
   "metadata": {},
   "outputs": [],
   "source": [
    "from pcraster import *"
   ]
  },
  {
   "cell_type": "markdown",
   "metadata": {},
   "source": [
    "Remember that our data is stored in the Data folder, while our Python is running in the parent folder. For convenience it's useful to change to the Data folder so all our input and output files are read and written there respectively.\n",
    "\n",
    "With the `os` library we can use command line command."
   ]
  },
  {
   "cell_type": "code",
   "execution_count": null,
   "metadata": {},
   "outputs": [],
   "source": [
    "import os"
   ]
  },
  {
   "cell_type": "markdown",
   "metadata": {},
   "source": [
    "Let's check the current working directory."
   ]
  },
  {
   "cell_type": "code",
   "execution_count": null,
   "metadata": {},
   "outputs": [],
   "source": [
    "print(os.getcwd())"
   ]
  },
  {
   "cell_type": "markdown",
   "metadata": {},
   "source": [
    "We can use an equivalent of the `cd` command to change the directory: `os.chdir(stringWithPath)`, where `stringWithPath` defines the path."
   ]
  },
  {
   "cell_type": "code",
   "execution_count": null,
   "metadata": {},
   "outputs": [],
   "source": [
    "os.chdir(\".\\Data\")"
   ]
  },
  {
   "cell_type": "markdown",
   "metadata": {},
   "source": [
    "Check where we are now. Make sure that we are in the Data folder of this tutorial."
   ]
  },
  {
   "cell_type": "code",
   "execution_count": null,
   "metadata": {},
   "outputs": [],
   "source": [
    "print(os.getcwd())"
   ]
  },
  {
   "cell_type": "markdown",
   "metadata": {},
   "source": [
    "Now we're ready to read `buildg.map` from disk and use it for map algebra with PCRaster.\n",
    "We can read maps using `readmap(stringWithPathToFile)`."
   ]
  },
  {
   "cell_type": "code",
   "execution_count": null,
   "metadata": {},
   "outputs": [],
   "source": [
    "Buildings = readmap(\"buildg.map\")"
   ]
  },
  {
   "cell_type": "markdown",
   "metadata": {},
   "source": [
    "Now we have read `buildg.map` from disk and can refer to it with the variable `Buildings`.\n",
    "There are different ways to visualise the map:\n",
    "* In Python we can use the `aguila` operator: `aguila(Buildings)`\n",
    "* At the command prompt we can use the `Aguila` command with the file name: `aguila buildg.map`\n",
    "* Use Python plotting tools\n",
    "\n",
    "We're going to use the last option in this Jupyter notebook. But you can try the other ones too if you run this notebook locally."
   ]
  },
  {
   "cell_type": "markdown",
   "metadata": {},
   "source": [
    "In order to plot the raster with Matplotlib we need to import the libraries:\n",
    "```\n",
    "from matplotlib.colors import ListedColormap\n",
    "import matplotlib.pyplot as plt\n",
    "```\n",
    "\n",
    "Then we define a function that need the PCRaster map as input.\n",
    "In the function we convert the PCRaster map to a 2D NumPy array with `pcr2numpy`. The function also needs a value for the missing values. Here we'll use -9999.\n",
    "\n",
    "Because different raster data types need to be styled in a different way we'll define different colour maps. With `dataType()` we can get the PCRaster datatype (`VALUESCALE`). You can find different colour maps [here](https://matplotlib.org/examples/color/colormaps_reference.html). For nominal rasters here we use `'Set1'` and for scalar rasters we use `'cool'`. For boolean rasters we define a `ListedColormap` with red for False and green for True. There's much more that we can tweak to get a good legend, but that's beyond the scope of this tutorial.\n",
    "\n",
    "With `plt.axis('off')` we don't display the axes, because it is a map."
   ]
  },
  {
   "cell_type": "code",
   "execution_count": null,
   "metadata": {},
   "outputs": [],
   "source": [
    "%matplotlib inline\n",
    "from matplotlib.colors import ListedColormap\n",
    "import matplotlib.pyplot as plt\n",
    "\n",
    "def showmap(pcrastermap):\n",
    "    MapArray = pcr2numpy(pcrastermap,-9999)\n",
    "    if pcrastermap.dataType() == VALUESCALE.Nominal:\n",
    "        cmap = 'Set1'\n",
    "        plt.imshow(MapArray,cmap=cmap)\n",
    "        plt.colorbar()\n",
    "        \n",
    "    elif pcrastermap.dataType() == VALUESCALE.Boolean:\n",
    "        cmap = ListedColormap([\"red\",\"green\"])\n",
    "        plt.imshow(MapArray,cmap=cmap)\n",
    "        plt.colorbar(ticks=[0,1])\n",
    "    else:\n",
    "        cmap = 'cool'\n",
    "        plt.imshow(MapArray,cmap=cmap)\n",
    "        plt.colorbar()\n",
    "    \n",
    "    plt.axis('off')\n",
    "    plt.show()"
   ]
  },
  {
   "cell_type": "markdown",
   "metadata": {},
   "source": [
    "Now let's visualise `Buildings`."
   ]
  },
  {
   "cell_type": "code",
   "execution_count": null,
   "metadata": {},
   "outputs": [],
   "source": [
    "showmap(Buildings)"
   ]
  },
  {
   "cell_type": "markdown",
   "metadata": {},
   "source": [
    "Raster data has no attribute table. The values in the `Buildings` raster represent the following classes:"
   ]
  },
  {
   "cell_type": "markdown",
   "metadata": {},
   "source": [
    "| Value | Class |\n",
    "|:-------:|:-------:|\n",
    "| 0 | None |\n",
    "| 1 | House |\n",
    "| 2 | Public building |\n",
    "| 3 | Landfill |\n",
    "| 4 | Industry |\n",
    "| 5 | Mine |"
   ]
  },
  {
   "cell_type": "markdown",
   "metadata": {},
   "source": [
    "We first need to create a boolean layer with True for houses and False for other buildings."
   ]
  },
  {
   "cell_type": "code",
   "execution_count": null,
   "metadata": {},
   "outputs": [],
   "source": [
    "Houses = Buildings == 1"
   ]
  },
  {
   "cell_type": "markdown",
   "metadata": {},
   "source": [
    "Here we have used the `==` operator. This creates a boolean map with value 1 for all cells that are equal to 1 and 0 for all other cells. Here you can find more info about [operators in PCRaster](https://pcraster.geo.uu.nl/pcraster/4.3.0/documentation/python/quickstart.html#operators).\n",
    "Let's check the result:"
   ]
  },
  {
   "cell_type": "code",
   "execution_count": null,
   "metadata": {},
   "outputs": [],
   "source": [
    "showmap(Houses)"
   ]
  },
  {
   "cell_type": "markdown",
   "metadata": {},
   "source": [
    "## Create Zones of 150 Meters Around the Houses\n",
    "The next step is to create zones of 150 m around the houses.\n",
    "\n",
    "We can use the [`spreadmaxzone` function](https://pcraster.geo.uu.nl/pcraster/4.3.0/documentation/pcraster_manual/sphinx/op_spreadmaxzone.html).\n",
    "\n",
    "The syntax is `Result = spreadmaxzone(points, initialfrictiondist, friction, max_distance)`\n",
    "In our case `points` are the `Houses`, `initialfrictiondist = 0`, `friction = 1` and `max_distance = 150`. `intialfrictiondistance = 0` means that their is no friction at the location of the houses an with `friction = 1` we calculate the distance from other pixels in an equal way without different weights."
   ]
  },
  {
   "cell_type": "code",
   "execution_count": null,
   "metadata": {},
   "outputs": [],
   "source": [
    "houses150m = spreadmaxzone(Houses, 0, 1, 150)"
   ]
  },
  {
   "cell_type": "markdown",
   "metadata": {},
   "source": [
    "Visualise the result."
   ]
  },
  {
   "cell_type": "code",
   "execution_count": null,
   "metadata": {},
   "outputs": [],
   "source": [
    "showmap(houses150m)"
   ]
  },
  {
   "cell_type": "markdown",
   "metadata": {},
   "source": [
    "We can save this result to disk using the `report` function. The first argument is the variable name of the map that you want to write to disk. The second argument is the string of the file name."
   ]
  },
  {
   "cell_type": "code",
   "execution_count": null,
   "metadata": {},
   "outputs": [],
   "source": [
    "report(houses150m,\"houses150m.map\")"
   ]
  },
  {
   "cell_type": "markdown",
   "metadata": {},
   "source": [
    "Verify that `houses150m.map` is stored in the Data folder and visualise the result by using aguila from the command prompt:\n",
    "```\n",
    "aguila houses150.map\n",
    "```"
   ]
  },
  {
   "cell_type": "markdown",
   "metadata": {},
   "source": [
    "## Create Zones of 150 Meters Around the Roads\n",
    "In a similar way we can now calculate the 150 m buffer around the roads.\n",
    "\n",
    "The values in `roads.map` represent the following classes:\n",
    "\n",
    "| Value | Class |\n",
    "|:-------:|:-------:|\n",
    "| 0 | No road |\n",
    "| 1 | Dirt road |\n",
    "| 2 | Tarmac |\n",
    "\n",
    "Do the same steps as for `houses150m` and save the result to `roads150m.map`."
   ]
  },
  {
   "cell_type": "code",
   "execution_count": null,
   "metadata": {},
   "outputs": [],
   "source": [
    "Roads = readmap(\"roads.map\")"
   ]
  },
  {
   "cell_type": "code",
   "execution_count": null,
   "metadata": {},
   "outputs": [],
   "source": [
    "IsRoad = Roads != 0"
   ]
  },
  {
   "cell_type": "code",
   "execution_count": null,
   "metadata": {},
   "outputs": [],
   "source": [
    "showmap(IsRoad)"
   ]
  },
  {
   "cell_type": "code",
   "execution_count": null,
   "metadata": {},
   "outputs": [],
   "source": [
    "roads150m = spreadmaxzone(IsRoad, 0, 1, 150)"
   ]
  },
  {
   "cell_type": "markdown",
   "metadata": {},
   "source": [
    "Visualise the result."
   ]
  },
  {
   "cell_type": "code",
   "execution_count": null,
   "metadata": {},
   "outputs": [],
   "source": [
    "showmap(roads150m)"
   ]
  },
  {
   "cell_type": "markdown",
   "metadata": {},
   "source": [
    "Save the result to disk with the name `roads150m.map` and visualise using aguila at the command prompt to check the results."
   ]
  },
  {
   "cell_type": "markdown",
   "metadata": {},
   "source": [
    "<!--NAVIGATION-->\n",
    "< [Preparation](Preparation.ipynb) | [Contents](Contents.ipynb) | [Condition 2](Condition_2.ipynb) >"
   ]
  }
 ],
 "metadata": {
  "kernelspec": {
   "display_name": "Python 3",
   "language": "python",
   "name": "python3"
  },
  "language_info": {
   "codemirror_mode": {
    "name": "ipython",
    "version": 3
   },
   "file_extension": ".py",
   "mimetype": "text/x-python",
   "name": "python",
   "nbconvert_exporter": "python",
   "pygments_lexer": "ipython3",
   "version": "3.7.6"
  }
 },
 "nbformat": 4,
 "nbformat_minor": 4
}
